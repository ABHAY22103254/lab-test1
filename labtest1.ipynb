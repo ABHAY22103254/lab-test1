{
 "cells": [
  {
   "cell_type": "code",
   "execution_count": 16,
   "id": "f0afbe61-7a4f-4814-81f7-cbdbdb7d0cc4",
   "metadata": {},
   "outputs": [
    {
     "name": "stdout",
     "output_type": "stream",
     "text": [
      "[['a' '50' '5']\n",
      " ['b' '20' '10']\n",
      " ['c' '30' '12']]\n"
     ]
    }
   ],
   "source": [
    "import numpy as np\n",
    "import matplotlib.pyplot as plt\n",
    "\n",
    "inventory = np.array([[\"a\",50,5],[\"b\",20,10],[\"c\",30,12]])\n",
    "print(inventory)\n",
    "\n",
    "\n",
    "        \n",
    "        \n",
    "    \n",
    "    \n",
    "    \n",
    "    "
   ]
  },
  {
   "cell_type": "code",
   "execution_count": 21,
   "id": "a15e935c-12ab-44e3-835c-4c39fd26b90f",
   "metadata": {},
   "outputs": [
    {
     "ename": "IndentationError",
     "evalue": "unexpected indent (2405454375.py, line 4)",
     "output_type": "error",
     "traceback": [
      "\u001b[1;36m  Cell \u001b[1;32mIn[21], line 4\u001b[1;36m\u001b[0m\n\u001b[1;33m    inventory += new\u001b[0m\n\u001b[1;37m    ^\u001b[0m\n\u001b[1;31mIndentationError\u001b[0m\u001b[1;31m:\u001b[0m unexpected indent\n"
     ]
    }
   ],
   "source": [
    "\n",
    "def add_new():\n",
    "    new = input(\"enter the item you want to add: \")\n",
    "    #for i in range(len(inventory[0]):\n",
    "        inventory += new \n",
    "\n",
    "x = add_new()\n",
    "print(x)\n"
   ]
  },
  {
   "cell_type": "code",
   "execution_count": 22,
   "id": "1b85f15e-5cf2-4dc4-a9ac-6e2bcd27b304",
   "metadata": {},
   "outputs": [
    {
     "name": "stdout",
     "output_type": "stream",
     "text": [
      "total sales is:  0\n",
      "total profit is:  0\n"
     ]
    },
    {
     "ename": "TypeError",
     "evalue": "scatter() missing 1 required positional argument: 'y'",
     "output_type": "error",
     "traceback": [
      "\u001b[1;31m---------------------------------------------------------------------------\u001b[0m",
      "\u001b[1;31mTypeError\u001b[0m                                 Traceback (most recent call last)",
      "Cell \u001b[1;32mIn[22], line 22\u001b[0m\n\u001b[0;32m     18\u001b[0m \u001b[38;5;28mprint\u001b[39m(\u001b[38;5;124m\"\u001b[39m\u001b[38;5;124mtotal profit is: \u001b[39m\u001b[38;5;124m\"\u001b[39m,total_profit)\n\u001b[0;32m     20\u001b[0m \u001b[38;5;66;03m#print(\"current inventory: \",x)\u001b[39;00m\n\u001b[1;32m---> 22\u001b[0m plt\u001b[38;5;241m.\u001b[39mscatter(sold,label \u001b[38;5;241m=\u001b[39m \u001b[38;5;124m\"\u001b[39m\u001b[38;5;124mtotal sales\u001b[39m\u001b[38;5;124m\"\u001b[39m)\n\u001b[0;32m     23\u001b[0m plt\u001b[38;5;241m.\u001b[39mplot()\n\u001b[0;32m     25\u001b[0m plt\u001b[38;5;241m.\u001b[39mscatter(profit,label \u001b[38;5;241m=\u001b[39m \u001b[38;5;124m\"\u001b[39m\u001b[38;5;124mtoal profit\u001b[39m\u001b[38;5;124m\"\u001b[39m)\n",
      "\u001b[1;31mTypeError\u001b[0m: scatter() missing 1 required positional argument: 'y'"
     ]
    }
   ],
   "source": [
    "sold = []\n",
    "profit = []\n",
    "total_sales = 0\n",
    "total_profit = 0\n",
    "def update_x():\n",
    "    for i in range(len(x)):\n",
    "        x[i][2] = z\n",
    "        y = int(input(\"enter the item left: \"))\n",
    "        x[i][2] = y\n",
    "        sold[i] = z-y\n",
    "        profit[i] = sold[i]*x[i][1]\n",
    "        \n",
    "for i in range(len(sold)):\n",
    "    toatal_sales += sold[i]\n",
    "    total_profit += profit[i]\n",
    "\n",
    "print(\"total sales is: \",total_sales)\n",
    "print(\"total profit is: \",total_profit)\n",
    "\n",
    "print(\"current inventory: \",x)\n",
    "\n",
    "plt.scatter(profit,sold,label = \"total sales\")\n",
    "plt.plot()\n",
    "\n",
    "plt.scatter(profit,label = \"toal profit\")\n",
    "plt.plot()\n",
    "plt.grid(true)\n",
    "plt.show()"
   ]
  },
  {
   "cell_type": "code",
   "execution_count": null,
   "id": "17740f2b-7716-4503-9399-fb4267d95255",
   "metadata": {},
   "outputs": [],
   "source": []
  }
 ],
 "metadata": {
  "kernelspec": {
   "display_name": "Python 3 (ipykernel)",
   "language": "python",
   "name": "python3"
  },
  "language_info": {
   "codemirror_mode": {
    "name": "ipython",
    "version": 3
   },
   "file_extension": ".py",
   "mimetype": "text/x-python",
   "name": "python",
   "nbconvert_exporter": "python",
   "pygments_lexer": "ipython3",
   "version": "3.12.4"
  }
 },
 "nbformat": 4,
 "nbformat_minor": 5
}
